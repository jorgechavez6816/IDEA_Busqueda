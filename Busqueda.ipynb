{
 "cells": [
  {
   "cell_type": "code",
   "execution_count": 3,
   "metadata": {},
   "outputs": [],
   "source": [
    "#Ejemplo de búsqueda de texto\n",
    "\n",
    "import win32com.client as win32ComClient\n",
    "\n",
    "if __name__ == \"__main__\":\n",
    "    try:\n",
    "        dbName = \"C:\\\\Users\\\\Intel\\\\Documents\\\\Mis documentos IDEA\\\\Samples\\\\Ejemplo-Detalle de ventas.IMD\"\n",
    "        idea = win32ComClient.Dispatch(dispatch=\"Idea.IdeaClient\")\n",
    "        db = idea.OpenDatabase(dbName)\n",
    "        task = db.Search()\n",
    "        task.AddFieldToInc(\"NUM_FACT\")\n",
    "        task.AddFieldToInc(\"FECHA_FACT\")\n",
    "        task.AddFieldToInc(\"NUM_VENDEDOR\")\n",
    "        task.AddFieldToInc(\"NUM_CLI\")\n",
    "        task.AddFieldToInc(\"COD_PROD\")\n",
    "        task.AddFieldToInc(\"PRECIO_UNID\")\n",
    "        task.AddFieldToInc(\"CANTIDAD\")\n",
    "        task.AddFieldToInc(\"NETO\")\n",
    "        task.AddFieldToInc(\"IMPUESTO\")\n",
    "        task.AddFieldToInc(\"TOTAL\")\n",
    "        task.RecordFilesPrefix = \"EB\"\n",
    "        Texto = \"400\"\n",
    "        dbName = \"EB-Ejemplo-Detalle de ventas.IMD\"\n",
    "        task.PerformTask(Texto, 0, 0, 1)\n",
    "    finally:\n",
    "        task = None\n",
    "        db = None\n",
    "        idea = None\n",
    "\n",
    "#En linea de Texto se debe indicar la búsqueda\n",
    "\n"
   ]
  }
 ],
 "metadata": {
  "kernelspec": {
   "display_name": "Python 3",
   "language": "python",
   "name": "python3"
  },
  "language_info": {
   "codemirror_mode": {
    "name": "ipython",
    "version": 3
   },
   "file_extension": ".py",
   "mimetype": "text/x-python",
   "name": "python",
   "nbconvert_exporter": "python",
   "pygments_lexer": "ipython3",
   "version": "3.7.6"
  }
 },
 "nbformat": 4,
 "nbformat_minor": 4
}
